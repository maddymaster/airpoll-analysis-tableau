{
 "cells": [
  {
   "cell_type": "code",
   "execution_count": 5,
   "metadata": {},
   "outputs": [],
   "source": [
    "# loading libraries and reading the data\n",
    "import numpy as np\n",
    "import pandas as pd\n",
    "%matplotlib inline\n",
    "import matplotlib.pyplot as plt\n",
    "import seaborn as sns"
   ]
  },
  {
   "cell_type": "code",
   "execution_count": 6,
   "metadata": {},
   "outputs": [],
   "source": [
    "\n",
    "#bangalore\n",
    "yemalur = pd.read_csv(r\"./Yemalur - Yemalur.csv\")\n",
    "itpl = pd.read_csv(r\"./ITPL - ITPL.csv\")\n",
    "indiranagar = pd.read_csv(r\"./Indiranagar100ft - Indiranagar100ft.csv\")\n",
    "mgroad = pd.read_csv(r\"./mgRoadMetroStation - mgRoadMetroStation.csv\")\n",
    "\n",
    "#delhi\n",
    "dlfcybercity = pd.read_csv(r\"./DLFCyberCity - DLFCyberCity.csv\")\n",
    "igi = pd.read_csv(r\"./IGI - IGI.csv\")\n",
    "indiagate = pd.read_csv(r\"./IndiaGate - IndiaGate.csv\")\n",
    "shantiniketan = pd.read_csv(r\"./Shantiniketan - Shantiniketan.csv\")"
   ]
  },
  {
   "cell_type": "code",
   "execution_count": 7,
   "metadata": {},
   "outputs": [
    {
     "data": {
      "text/plain": [
       "(445, 12)"
      ]
     },
     "execution_count": 7,
     "metadata": {},
     "output_type": "execute_result"
    }
   ],
   "source": [
    "yemalur.shape\n",
    "\n"
   ]
  },
  {
   "cell_type": "code",
   "execution_count": 8,
   "metadata": {},
   "outputs": [
    {
     "data": {
      "text/html": [
       "<div>\n",
       "<style scoped>\n",
       "    .dataframe tbody tr th:only-of-type {\n",
       "        vertical-align: middle;\n",
       "    }\n",
       "\n",
       "    .dataframe tbody tr th {\n",
       "        vertical-align: top;\n",
       "    }\n",
       "\n",
       "    .dataframe thead th {\n",
       "        text-align: right;\n",
       "    }\n",
       "</style>\n",
       "<table border=\"1\" class=\"dataframe\">\n",
       "  <thead>\n",
       "    <tr style=\"text-align: right;\">\n",
       "      <th></th>\n",
       "      <th>NO2</th>\n",
       "      <th>PM10</th>\n",
       "      <th>PM25</th>\n",
       "      <th>CO</th>\n",
       "      <th>SO2</th>\n",
       "      <th>OZONE</th>\n",
       "      <th>NOX</th>\n",
       "      <th>AQI</th>\n",
       "      <th>updatedAt</th>\n",
       "      <th>postalCode</th>\n",
       "      <th>lat</th>\n",
       "      <th>lng</th>\n",
       "    </tr>\n",
       "  </thead>\n",
       "  <tbody>\n",
       "    <tr>\n",
       "      <th>0</th>\n",
       "      <td>10.67470</td>\n",
       "      <td>110.0</td>\n",
       "      <td>17.778255</td>\n",
       "      <td>0.754173</td>\n",
       "      <td>1.835252</td>\n",
       "      <td>14.8</td>\n",
       "      <td>20.254870</td>\n",
       "      <td>81</td>\n",
       "      <td>Aug 03, 2019 7:08:42</td>\n",
       "      <td>560037</td>\n",
       "      <td>12.9690</td>\n",
       "      <td>77.7209</td>\n",
       "    </tr>\n",
       "    <tr>\n",
       "      <th>1</th>\n",
       "      <td>9.72870</td>\n",
       "      <td>110.0</td>\n",
       "      <td>16.309429</td>\n",
       "      <td>0.724662</td>\n",
       "      <td>1.887122</td>\n",
       "      <td>14.8</td>\n",
       "      <td>20.636496</td>\n",
       "      <td>79</td>\n",
       "      <td>Aug 03, 2019 7:08:42</td>\n",
       "      <td>560037</td>\n",
       "      <td>12.9584</td>\n",
       "      <td>77.6794</td>\n",
       "    </tr>\n",
       "    <tr>\n",
       "      <th>2</th>\n",
       "      <td>8.75934</td>\n",
       "      <td>110.0</td>\n",
       "      <td>14.804393</td>\n",
       "      <td>0.694424</td>\n",
       "      <td>1.940271</td>\n",
       "      <td>14.8</td>\n",
       "      <td>21.027530</td>\n",
       "      <td>82</td>\n",
       "      <td>Aug 03, 2019 7:08:42</td>\n",
       "      <td>560037</td>\n",
       "      <td>12.9446</td>\n",
       "      <td>77.6837</td>\n",
       "    </tr>\n",
       "    <tr>\n",
       "      <th>3</th>\n",
       "      <td>10.70910</td>\n",
       "      <td>110.0</td>\n",
       "      <td>17.831659</td>\n",
       "      <td>0.755246</td>\n",
       "      <td>1.833366</td>\n",
       "      <td>14.8</td>\n",
       "      <td>20.240994</td>\n",
       "      <td>79</td>\n",
       "      <td>Aug 03, 2019 7:08:42</td>\n",
       "      <td>560037</td>\n",
       "      <td>12.9772</td>\n",
       "      <td>77.7019</td>\n",
       "    </tr>\n",
       "    <tr>\n",
       "      <th>4</th>\n",
       "      <td>9.74427</td>\n",
       "      <td>110.0</td>\n",
       "      <td>16.333599</td>\n",
       "      <td>0.725148</td>\n",
       "      <td>1.886268</td>\n",
       "      <td>14.8</td>\n",
       "      <td>20.630216</td>\n",
       "      <td>79</td>\n",
       "      <td>Aug 03, 2019 7:08:42</td>\n",
       "      <td>560037</td>\n",
       "      <td>12.9592</td>\n",
       "      <td>77.6974</td>\n",
       "    </tr>\n",
       "  </tbody>\n",
       "</table>\n",
       "</div>"
      ],
      "text/plain": [
       "        NO2   PM10       PM25        CO       SO2  OZONE        NOX  AQI  \\\n",
       "0  10.67470  110.0  17.778255  0.754173  1.835252   14.8  20.254870   81   \n",
       "1   9.72870  110.0  16.309429  0.724662  1.887122   14.8  20.636496   79   \n",
       "2   8.75934  110.0  14.804393  0.694424  1.940271   14.8  21.027530   82   \n",
       "3  10.70910  110.0  17.831659  0.755246  1.833366   14.8  20.240994   79   \n",
       "4   9.74427  110.0  16.333599  0.725148  1.886268   14.8  20.630216   79   \n",
       "\n",
       "              updatedAt  postalCode      lat      lng  \n",
       "0  Aug 03, 2019 7:08:42      560037  12.9690  77.7209  \n",
       "1  Aug 03, 2019 7:08:42      560037  12.9584  77.6794  \n",
       "2  Aug 03, 2019 7:08:42      560037  12.9446  77.6837  \n",
       "3  Aug 03, 2019 7:08:42      560037  12.9772  77.7019  \n",
       "4  Aug 03, 2019 7:08:42      560037  12.9592  77.6974  "
      ]
     },
     "execution_count": 8,
     "metadata": {},
     "output_type": "execute_result"
    }
   ],
   "source": [
    "yemalur.head()"
   ]
  },
  {
   "cell_type": "code",
   "execution_count": 9,
   "metadata": {},
   "outputs": [
    {
     "data": {
      "text/html": [
       "<div>\n",
       "<style scoped>\n",
       "    .dataframe tbody tr th:only-of-type {\n",
       "        vertical-align: middle;\n",
       "    }\n",
       "\n",
       "    .dataframe tbody tr th {\n",
       "        vertical-align: top;\n",
       "    }\n",
       "\n",
       "    .dataframe thead th {\n",
       "        text-align: right;\n",
       "    }\n",
       "</style>\n",
       "<table border=\"1\" class=\"dataframe\">\n",
       "  <thead>\n",
       "    <tr style=\"text-align: right;\">\n",
       "      <th></th>\n",
       "      <th>NO2</th>\n",
       "      <th>PM10</th>\n",
       "      <th>PM25</th>\n",
       "      <th>CO</th>\n",
       "      <th>SO2</th>\n",
       "      <th>OZONE</th>\n",
       "      <th>NOX</th>\n",
       "      <th>AQI</th>\n",
       "      <th>postalCode</th>\n",
       "      <th>lat</th>\n",
       "      <th>lng</th>\n",
       "    </tr>\n",
       "  </thead>\n",
       "  <tbody>\n",
       "    <tr>\n",
       "      <th>count</th>\n",
       "      <td>445.000000</td>\n",
       "      <td>400.000000</td>\n",
       "      <td>445.000000</td>\n",
       "      <td>435.000000</td>\n",
       "      <td>440.000000</td>\n",
       "      <td>380.000000</td>\n",
       "      <td>445.000000</td>\n",
       "      <td>445.000000</td>\n",
       "      <td>445.0</td>\n",
       "      <td>445.000000</td>\n",
       "      <td>445.000000</td>\n",
       "    </tr>\n",
       "    <tr>\n",
       "      <th>mean</th>\n",
       "      <td>13.611229</td>\n",
       "      <td>81.262500</td>\n",
       "      <td>31.434241</td>\n",
       "      <td>1.154191</td>\n",
       "      <td>1.842312</td>\n",
       "      <td>14.482237</td>\n",
       "      <td>28.724352</td>\n",
       "      <td>91.267416</td>\n",
       "      <td>560037.0</td>\n",
       "      <td>12.961680</td>\n",
       "      <td>77.696660</td>\n",
       "    </tr>\n",
       "    <tr>\n",
       "      <th>std</th>\n",
       "      <td>5.144792</td>\n",
       "      <td>18.901369</td>\n",
       "      <td>36.478857</td>\n",
       "      <td>1.508965</td>\n",
       "      <td>0.421265</td>\n",
       "      <td>1.284309</td>\n",
       "      <td>12.188182</td>\n",
       "      <td>42.744347</td>\n",
       "      <td>0.0</td>\n",
       "      <td>0.010995</td>\n",
       "      <td>0.014723</td>\n",
       "    </tr>\n",
       "    <tr>\n",
       "      <th>min</th>\n",
       "      <td>5.127660</td>\n",
       "      <td>30.000000</td>\n",
       "      <td>7.600000</td>\n",
       "      <td>0.279614</td>\n",
       "      <td>0.518359</td>\n",
       "      <td>9.505000</td>\n",
       "      <td>10.970000</td>\n",
       "      <td>29.000000</td>\n",
       "      <td>560037.0</td>\n",
       "      <td>12.944600</td>\n",
       "      <td>77.679400</td>\n",
       "    </tr>\n",
       "    <tr>\n",
       "      <th>25%</th>\n",
       "      <td>10.200400</td>\n",
       "      <td>67.000000</td>\n",
       "      <td>16.620395</td>\n",
       "      <td>0.692414</td>\n",
       "      <td>1.617027</td>\n",
       "      <td>14.015000</td>\n",
       "      <td>19.472950</td>\n",
       "      <td>69.000000</td>\n",
       "      <td>560037.0</td>\n",
       "      <td>12.958400</td>\n",
       "      <td>77.683700</td>\n",
       "    </tr>\n",
       "    <tr>\n",
       "      <th>50%</th>\n",
       "      <td>12.638900</td>\n",
       "      <td>81.000000</td>\n",
       "      <td>22.882496</td>\n",
       "      <td>0.838408</td>\n",
       "      <td>1.854783</td>\n",
       "      <td>14.310000</td>\n",
       "      <td>26.213053</td>\n",
       "      <td>78.000000</td>\n",
       "      <td>560037.0</td>\n",
       "      <td>12.959200</td>\n",
       "      <td>77.697400</td>\n",
       "    </tr>\n",
       "    <tr>\n",
       "      <th>75%</th>\n",
       "      <td>16.013700</td>\n",
       "      <td>99.250000</td>\n",
       "      <td>36.828538</td>\n",
       "      <td>1.015321</td>\n",
       "      <td>2.050286</td>\n",
       "      <td>15.115000</td>\n",
       "      <td>35.378210</td>\n",
       "      <td>103.000000</td>\n",
       "      <td>560037.0</td>\n",
       "      <td>12.969000</td>\n",
       "      <td>77.701900</td>\n",
       "    </tr>\n",
       "    <tr>\n",
       "      <th>max</th>\n",
       "      <td>36.970000</td>\n",
       "      <td>110.000000</td>\n",
       "      <td>368.909063</td>\n",
       "      <td>9.823701</td>\n",
       "      <td>3.282443</td>\n",
       "      <td>19.210000</td>\n",
       "      <td>78.595113</td>\n",
       "      <td>411.000000</td>\n",
       "      <td>560037.0</td>\n",
       "      <td>12.977200</td>\n",
       "      <td>77.720900</td>\n",
       "    </tr>\n",
       "  </tbody>\n",
       "</table>\n",
       "</div>"
      ],
      "text/plain": [
       "              NO2        PM10        PM25          CO         SO2       OZONE  \\\n",
       "count  445.000000  400.000000  445.000000  435.000000  440.000000  380.000000   \n",
       "mean    13.611229   81.262500   31.434241    1.154191    1.842312   14.482237   \n",
       "std      5.144792   18.901369   36.478857    1.508965    0.421265    1.284309   \n",
       "min      5.127660   30.000000    7.600000    0.279614    0.518359    9.505000   \n",
       "25%     10.200400   67.000000   16.620395    0.692414    1.617027   14.015000   \n",
       "50%     12.638900   81.000000   22.882496    0.838408    1.854783   14.310000   \n",
       "75%     16.013700   99.250000   36.828538    1.015321    2.050286   15.115000   \n",
       "max     36.970000  110.000000  368.909063    9.823701    3.282443   19.210000   \n",
       "\n",
       "              NOX         AQI  postalCode         lat         lng  \n",
       "count  445.000000  445.000000       445.0  445.000000  445.000000  \n",
       "mean    28.724352   91.267416    560037.0   12.961680   77.696660  \n",
       "std     12.188182   42.744347         0.0    0.010995    0.014723  \n",
       "min     10.970000   29.000000    560037.0   12.944600   77.679400  \n",
       "25%     19.472950   69.000000    560037.0   12.958400   77.683700  \n",
       "50%     26.213053   78.000000    560037.0   12.959200   77.697400  \n",
       "75%     35.378210  103.000000    560037.0   12.969000   77.701900  \n",
       "max     78.595113  411.000000    560037.0   12.977200   77.720900  "
      ]
     },
     "execution_count": 9,
     "metadata": {},
     "output_type": "execute_result"
    }
   ],
   "source": [
    "yemalur.describe()"
   ]
  },
  {
   "cell_type": "code",
   "execution_count": 8,
   "metadata": {},
   "outputs": [
    {
     "data": {
      "text/plain": [
       "NO2           26\n",
       "PM10           2\n",
       "PM25           2\n",
       "CO            30\n",
       "SO2           40\n",
       "OZONE         30\n",
       "NOX           26\n",
       "AQI            0\n",
       "updatedAt      0\n",
       "postalCode     0\n",
       "lat            0\n",
       "lng            0\n",
       "dtype: int64"
      ]
     },
     "execution_count": 8,
     "metadata": {},
     "output_type": "execute_result"
    }
   ],
   "source": [
    "indiagate.isnull().sum()"
   ]
  },
  {
   "cell_type": "code",
   "execution_count": 9,
   "metadata": {},
   "outputs": [],
   "source": [
    "indiagate.fillna(method=\"ffill\",inplace=True)"
   ]
  },
  {
   "cell_type": "code",
   "execution_count": 10,
   "metadata": {},
   "outputs": [
    {
     "data": {
      "text/plain": [
       "NO2           0\n",
       "PM10          0\n",
       "PM25          0\n",
       "CO            0\n",
       "SO2           0\n",
       "OZONE         0\n",
       "NOX           0\n",
       "AQI           0\n",
       "updatedAt     0\n",
       "postalCode    0\n",
       "lat           0\n",
       "lng           0\n",
       "dtype: int64"
      ]
     },
     "execution_count": 10,
     "metadata": {},
     "output_type": "execute_result"
    }
   ],
   "source": [
    "indiagate.isnull().sum()"
   ]
  },
  {
   "cell_type": "code",
   "execution_count": 11,
   "metadata": {},
   "outputs": [],
   "source": [
    "indiranagar.fillna(method=\"ffill\",inplace=True)"
   ]
  },
  {
   "cell_type": "code",
   "execution_count": 12,
   "metadata": {},
   "outputs": [
    {
     "data": {
      "text/plain": [
       "NO2           0\n",
       "PM10          0\n",
       "PM25          0\n",
       "CO            0\n",
       "SO2           0\n",
       "OZONE         0\n",
       "NOX           0\n",
       "AQI           0\n",
       "updatedAt     0\n",
       "postalCode    0\n",
       "lat           0\n",
       "lng           0\n",
       "dtype: int64"
      ]
     },
     "execution_count": 12,
     "metadata": {},
     "output_type": "execute_result"
    }
   ],
   "source": [
    "indiranagar.isnull().sum()"
   ]
  },
  {
   "cell_type": "code",
   "execution_count": 14,
   "metadata": {},
   "outputs": [],
   "source": [
    "mgroad.fillna(method=\"ffill\",inplace=True)\n",
    "mgroad.fillna(method=\"bfill\",inplace=True)"
   ]
  },
  {
   "cell_type": "code",
   "execution_count": 10,
   "metadata": {},
   "outputs": [
    {
     "data": {
      "text/plain": [
       "(162, 12)"
      ]
     },
     "execution_count": 10,
     "metadata": {},
     "output_type": "execute_result"
    }
   ],
   "source": [
    "indiranagar.shape"
   ]
  },
  {
   "cell_type": "code",
   "execution_count": 11,
   "metadata": {},
   "outputs": [
    {
     "data": {
      "text/plain": [
       "(963, 12)"
      ]
     },
     "execution_count": 11,
     "metadata": {},
     "output_type": "execute_result"
    }
   ],
   "source": [
    "mgroad.shape"
   ]
  },
  {
   "cell_type": "code",
   "execution_count": 15,
   "metadata": {},
   "outputs": [],
   "source": [
    "shantiniketan.fillna(method=\"ffill\",inplace=True)"
   ]
  },
  {
   "cell_type": "code",
   "execution_count": 16,
   "metadata": {},
   "outputs": [],
   "source": [
    "yemalur.fillna(method=\"ffill\",inplace=True)"
   ]
  },
  {
   "cell_type": "code",
   "execution_count": 17,
   "metadata": {},
   "outputs": [],
   "source": [
    "itpl.fillna(method=\"ffill\",inplace=True)"
   ]
  },
  {
   "cell_type": "code",
   "execution_count": 27,
   "metadata": {},
   "outputs": [],
   "source": [
    "Bangalore = pd.merge(itpl,mgroad,how=\"outer\",sort=True)\n",
    "Bangalore = pd.merge(Banglore,indiranagar,how=\"outer\",sort=True)\n"
   ]
  },
  {
   "cell_type": "code",
   "execution_count": 32,
   "metadata": {},
   "outputs": [
    {
     "data": {
      "text/html": [
       "<div>\n",
       "<style scoped>\n",
       "    .dataframe tbody tr th:only-of-type {\n",
       "        vertical-align: middle;\n",
       "    }\n",
       "\n",
       "    .dataframe tbody tr th {\n",
       "        vertical-align: top;\n",
       "    }\n",
       "\n",
       "    .dataframe thead th {\n",
       "        text-align: right;\n",
       "    }\n",
       "</style>\n",
       "<table border=\"1\" class=\"dataframe\">\n",
       "  <thead>\n",
       "    <tr style=\"text-align: right;\">\n",
       "      <th></th>\n",
       "      <th>NO2</th>\n",
       "      <th>PM10</th>\n",
       "      <th>PM25</th>\n",
       "      <th>CO</th>\n",
       "      <th>SO2</th>\n",
       "      <th>OZONE</th>\n",
       "      <th>NOX</th>\n",
       "      <th>AQI</th>\n",
       "      <th>updatedAt</th>\n",
       "      <th>postalCode</th>\n",
       "      <th>lat</th>\n",
       "      <th>lng</th>\n",
       "    </tr>\n",
       "  </thead>\n",
       "  <tbody>\n",
       "    <tr>\n",
       "      <th>0</th>\n",
       "      <td>1.27660</td>\n",
       "      <td>23.0</td>\n",
       "      <td>10.0</td>\n",
       "      <td>0.25</td>\n",
       "      <td>0.305344</td>\n",
       "      <td>15.485</td>\n",
       "      <td>1.5</td>\n",
       "      <td>43</td>\n",
       "      <td>Jul 29, 2019 23:53:03</td>\n",
       "      <td>560001</td>\n",
       "      <td>12.9747</td>\n",
       "      <td>77.6094</td>\n",
       "    </tr>\n",
       "    <tr>\n",
       "      <th>1</th>\n",
       "      <td>1.27660</td>\n",
       "      <td>27.0</td>\n",
       "      <td>18.0</td>\n",
       "      <td>0.24</td>\n",
       "      <td>0.381679</td>\n",
       "      <td>14.505</td>\n",
       "      <td>1.4</td>\n",
       "      <td>61</td>\n",
       "      <td>Jul 29, 2019 21:22:20</td>\n",
       "      <td>560001</td>\n",
       "      <td>12.9747</td>\n",
       "      <td>77.6094</td>\n",
       "    </tr>\n",
       "    <tr>\n",
       "      <th>2</th>\n",
       "      <td>1.38298</td>\n",
       "      <td>27.0</td>\n",
       "      <td>9.0</td>\n",
       "      <td>0.40</td>\n",
       "      <td>1.297710</td>\n",
       "      <td>12.545</td>\n",
       "      <td>3.6</td>\n",
       "      <td>39</td>\n",
       "      <td>Jul 31, 2019 0:40:05</td>\n",
       "      <td>560001</td>\n",
       "      <td>12.9911</td>\n",
       "      <td>77.5920</td>\n",
       "    </tr>\n",
       "    <tr>\n",
       "      <th>3</th>\n",
       "      <td>1.38298</td>\n",
       "      <td>27.0</td>\n",
       "      <td>9.0</td>\n",
       "      <td>0.40</td>\n",
       "      <td>1.297710</td>\n",
       "      <td>12.545</td>\n",
       "      <td>3.6</td>\n",
       "      <td>41</td>\n",
       "      <td>Jul 31, 2019 0:40:05</td>\n",
       "      <td>560001</td>\n",
       "      <td>12.9841</td>\n",
       "      <td>77.5889</td>\n",
       "    </tr>\n",
       "    <tr>\n",
       "      <th>4</th>\n",
       "      <td>1.59574</td>\n",
       "      <td>27.0</td>\n",
       "      <td>11.0</td>\n",
       "      <td>0.31</td>\n",
       "      <td>0.343511</td>\n",
       "      <td>17.345</td>\n",
       "      <td>2.2</td>\n",
       "      <td>47</td>\n",
       "      <td>Jul 26, 2019 19:22:23</td>\n",
       "      <td>560001</td>\n",
       "      <td>12.9780</td>\n",
       "      <td>77.6058</td>\n",
       "    </tr>\n",
       "  </tbody>\n",
       "</table>\n",
       "</div>"
      ],
      "text/plain": [
       "       NO2  PM10  PM25    CO       SO2   OZONE  NOX  AQI  \\\n",
       "0  1.27660  23.0  10.0  0.25  0.305344  15.485  1.5   43   \n",
       "1  1.27660  27.0  18.0  0.24  0.381679  14.505  1.4   61   \n",
       "2  1.38298  27.0   9.0  0.40  1.297710  12.545  3.6   39   \n",
       "3  1.38298  27.0   9.0  0.40  1.297710  12.545  3.6   41   \n",
       "4  1.59574  27.0  11.0  0.31  0.343511  17.345  2.2   47   \n",
       "\n",
       "               updatedAt  postalCode      lat      lng  \n",
       "0  Jul 29, 2019 23:53:03      560001  12.9747  77.6094  \n",
       "1  Jul 29, 2019 21:22:20      560001  12.9747  77.6094  \n",
       "2   Jul 31, 2019 0:40:05      560001  12.9911  77.5920  \n",
       "3   Jul 31, 2019 0:40:05      560001  12.9841  77.5889  \n",
       "4  Jul 26, 2019 19:22:23      560001  12.9780  77.6058  "
      ]
     },
     "execution_count": 32,
     "metadata": {},
     "output_type": "execute_result"
    }
   ],
   "source": [
    "Bangalore = pd.merge(Banglore,yemalur,how=\"outer\",sort=True)\n",
    "Bangalore.head()"
   ]
  },
  {
   "cell_type": "code",
   "execution_count": 43,
   "metadata": {},
   "outputs": [
    {
     "data": {
      "text/plain": [
       "array([560001, 560066, 560037])"
      ]
     },
     "execution_count": 43,
     "metadata": {},
     "output_type": "execute_result"
    }
   ],
   "source": [
    "\n",
    "Bangalore.postalCode.unique()"
   ]
  },
  {
   "cell_type": "code",
   "execution_count": 37,
   "metadata": {},
   "outputs": [
    {
     "data": {
      "text/html": [
       "<div>\n",
       "<style scoped>\n",
       "    .dataframe tbody tr th:only-of-type {\n",
       "        vertical-align: middle;\n",
       "    }\n",
       "\n",
       "    .dataframe tbody tr th {\n",
       "        vertical-align: top;\n",
       "    }\n",
       "\n",
       "    .dataframe thead th {\n",
       "        text-align: right;\n",
       "    }\n",
       "</style>\n",
       "<table border=\"1\" class=\"dataframe\">\n",
       "  <thead>\n",
       "    <tr style=\"text-align: right;\">\n",
       "      <th></th>\n",
       "      <th>NO2</th>\n",
       "      <th>PM10</th>\n",
       "      <th>PM25</th>\n",
       "      <th>CO</th>\n",
       "      <th>SO2</th>\n",
       "      <th>OZONE</th>\n",
       "      <th>NOX</th>\n",
       "      <th>AQI</th>\n",
       "      <th>postalCode</th>\n",
       "      <th>lat</th>\n",
       "      <th>lng</th>\n",
       "    </tr>\n",
       "    <tr>\n",
       "      <th>updatedAt</th>\n",
       "      <th></th>\n",
       "      <th></th>\n",
       "      <th></th>\n",
       "      <th></th>\n",
       "      <th></th>\n",
       "      <th></th>\n",
       "      <th></th>\n",
       "      <th></th>\n",
       "      <th></th>\n",
       "      <th></th>\n",
       "      <th></th>\n",
       "    </tr>\n",
       "  </thead>\n",
       "  <tbody>\n",
       "    <tr>\n",
       "      <th>Jul 29, 2019 23:53:03</th>\n",
       "      <td>1.27660</td>\n",
       "      <td>23.0</td>\n",
       "      <td>10.0</td>\n",
       "      <td>0.25</td>\n",
       "      <td>0.305344</td>\n",
       "      <td>15.485</td>\n",
       "      <td>1.5</td>\n",
       "      <td>43</td>\n",
       "      <td>560001</td>\n",
       "      <td>12.9747</td>\n",
       "      <td>77.6094</td>\n",
       "    </tr>\n",
       "    <tr>\n",
       "      <th>Jul 29, 2019 21:22:20</th>\n",
       "      <td>1.27660</td>\n",
       "      <td>27.0</td>\n",
       "      <td>18.0</td>\n",
       "      <td>0.24</td>\n",
       "      <td>0.381679</td>\n",
       "      <td>14.505</td>\n",
       "      <td>1.4</td>\n",
       "      <td>61</td>\n",
       "      <td>560001</td>\n",
       "      <td>12.9747</td>\n",
       "      <td>77.6094</td>\n",
       "    </tr>\n",
       "    <tr>\n",
       "      <th>Jul 31, 2019 0:40:05</th>\n",
       "      <td>1.38298</td>\n",
       "      <td>27.0</td>\n",
       "      <td>9.0</td>\n",
       "      <td>0.40</td>\n",
       "      <td>1.297710</td>\n",
       "      <td>12.545</td>\n",
       "      <td>3.6</td>\n",
       "      <td>39</td>\n",
       "      <td>560001</td>\n",
       "      <td>12.9911</td>\n",
       "      <td>77.5920</td>\n",
       "    </tr>\n",
       "    <tr>\n",
       "      <th>Jul 31, 2019 0:40:05</th>\n",
       "      <td>1.38298</td>\n",
       "      <td>27.0</td>\n",
       "      <td>9.0</td>\n",
       "      <td>0.40</td>\n",
       "      <td>1.297710</td>\n",
       "      <td>12.545</td>\n",
       "      <td>3.6</td>\n",
       "      <td>41</td>\n",
       "      <td>560001</td>\n",
       "      <td>12.9841</td>\n",
       "      <td>77.5889</td>\n",
       "    </tr>\n",
       "    <tr>\n",
       "      <th>Jul 26, 2019 19:22:23</th>\n",
       "      <td>1.59574</td>\n",
       "      <td>27.0</td>\n",
       "      <td>11.0</td>\n",
       "      <td>0.31</td>\n",
       "      <td>0.343511</td>\n",
       "      <td>17.345</td>\n",
       "      <td>2.2</td>\n",
       "      <td>47</td>\n",
       "      <td>560001</td>\n",
       "      <td>12.9780</td>\n",
       "      <td>77.6058</td>\n",
       "    </tr>\n",
       "  </tbody>\n",
       "</table>\n",
       "</div>"
      ],
      "text/plain": [
       "                           NO2  PM10  PM25    CO       SO2   OZONE  NOX  AQI  \\\n",
       "updatedAt                                                                      \n",
       "Jul 29, 2019 23:53:03  1.27660  23.0  10.0  0.25  0.305344  15.485  1.5   43   \n",
       "Jul 29, 2019 21:22:20  1.27660  27.0  18.0  0.24  0.381679  14.505  1.4   61   \n",
       "Jul 31, 2019 0:40:05   1.38298  27.0   9.0  0.40  1.297710  12.545  3.6   39   \n",
       "Jul 31, 2019 0:40:05   1.38298  27.0   9.0  0.40  1.297710  12.545  3.6   41   \n",
       "Jul 26, 2019 19:22:23  1.59574  27.0  11.0  0.31  0.343511  17.345  2.2   47   \n",
       "\n",
       "                       postalCode      lat      lng  \n",
       "updatedAt                                            \n",
       "Jul 29, 2019 23:53:03      560001  12.9747  77.6094  \n",
       "Jul 29, 2019 21:22:20      560001  12.9747  77.6094  \n",
       "Jul 31, 2019 0:40:05       560001  12.9911  77.5920  \n",
       "Jul 31, 2019 0:40:05       560001  12.9841  77.5889  \n",
       "Jul 26, 2019 19:22:23      560001  12.9780  77.6058  "
      ]
     },
     "execution_count": 37,
     "metadata": {},
     "output_type": "execute_result"
    }
   ],
   "source": [
    "Bangalore.head()"
   ]
  },
  {
   "cell_type": "code",
   "execution_count": 38,
   "metadata": {},
   "outputs": [],
   "source": [
    "Delhi = pd.merge(dlfcybercity,igi,how=\"outer\",sort=True)"
   ]
  },
  {
   "cell_type": "code",
   "execution_count": 39,
   "metadata": {},
   "outputs": [],
   "source": [
    "Delhi = pd.merge(Delhi,indiagate,how=\"outer\",sort=True)"
   ]
  },
  {
   "cell_type": "code",
   "execution_count": 40,
   "metadata": {},
   "outputs": [],
   "source": [
    "Delhi = pd.merge(Delhi,shantiniketan,how=\"outer\",sort=True)"
   ]
  },
  {
   "cell_type": "code",
   "execution_count": 41,
   "metadata": {},
   "outputs": [
    {
     "data": {
      "text/plain": [
       "array([110003, 110037, 110021, 122002])"
      ]
     },
     "execution_count": 41,
     "metadata": {},
     "output_type": "execute_result"
    }
   ],
   "source": [
    "Delhi.postalCode.unique()"
   ]
  },
  {
   "cell_type": "code",
   "execution_count": 42,
   "metadata": {},
   "outputs": [
    {
     "data": {
      "text/html": [
       "<div>\n",
       "<style scoped>\n",
       "    .dataframe tbody tr th:only-of-type {\n",
       "        vertical-align: middle;\n",
       "    }\n",
       "\n",
       "    .dataframe tbody tr th {\n",
       "        vertical-align: top;\n",
       "    }\n",
       "\n",
       "    .dataframe thead th {\n",
       "        text-align: right;\n",
       "    }\n",
       "</style>\n",
       "<table border=\"1\" class=\"dataframe\">\n",
       "  <thead>\n",
       "    <tr style=\"text-align: right;\">\n",
       "      <th></th>\n",
       "      <th>NO2</th>\n",
       "      <th>PM10</th>\n",
       "      <th>PM25</th>\n",
       "      <th>CO</th>\n",
       "      <th>SO2</th>\n",
       "      <th>OZONE</th>\n",
       "      <th>NOX</th>\n",
       "      <th>AQI</th>\n",
       "      <th>updatedAt</th>\n",
       "      <th>postalCode</th>\n",
       "      <th>lat</th>\n",
       "      <th>lng</th>\n",
       "    </tr>\n",
       "  </thead>\n",
       "  <tbody>\n",
       "    <tr>\n",
       "      <th>0</th>\n",
       "      <td>1.59862</td>\n",
       "      <td>41.066102</td>\n",
       "      <td>19.554720</td>\n",
       "      <td>1.792490</td>\n",
       "      <td>2.824427</td>\n",
       "      <td>12.009282</td>\n",
       "      <td>5.011091</td>\n",
       "      <td>69</td>\n",
       "      <td>Jul 27, 2019 7:22:31</td>\n",
       "      <td>110003</td>\n",
       "      <td>28.5911</td>\n",
       "      <td>77.2281</td>\n",
       "    </tr>\n",
       "    <tr>\n",
       "      <th>1</th>\n",
       "      <td>1.60466</td>\n",
       "      <td>33.982966</td>\n",
       "      <td>18.255604</td>\n",
       "      <td>1.510506</td>\n",
       "      <td>4.809160</td>\n",
       "      <td>5.026593</td>\n",
       "      <td>6.976350</td>\n",
       "      <td>61</td>\n",
       "      <td>Jul 29, 2019 4:33:36</td>\n",
       "      <td>110003</td>\n",
       "      <td>28.5911</td>\n",
       "      <td>77.2281</td>\n",
       "    </tr>\n",
       "    <tr>\n",
       "      <th>2</th>\n",
       "      <td>1.71839</td>\n",
       "      <td>21.658356</td>\n",
       "      <td>10.567228</td>\n",
       "      <td>1.498907</td>\n",
       "      <td>5.687023</td>\n",
       "      <td>5.394776</td>\n",
       "      <td>7.445848</td>\n",
       "      <td>47</td>\n",
       "      <td>Jul 29, 2019 1:22:34</td>\n",
       "      <td>110003</td>\n",
       "      <td>28.5911</td>\n",
       "      <td>77.2281</td>\n",
       "    </tr>\n",
       "    <tr>\n",
       "      <th>3</th>\n",
       "      <td>1.81066</td>\n",
       "      <td>12.561423</td>\n",
       "      <td>26.020093</td>\n",
       "      <td>1.445547</td>\n",
       "      <td>4.770992</td>\n",
       "      <td>13.127924</td>\n",
       "      <td>6.076698</td>\n",
       "      <td>82</td>\n",
       "      <td>Jul 28, 2019 7:22:16</td>\n",
       "      <td>110003</td>\n",
       "      <td>28.5911</td>\n",
       "      <td>77.2281</td>\n",
       "    </tr>\n",
       "    <tr>\n",
       "      <th>4</th>\n",
       "      <td>1.84327</td>\n",
       "      <td>48.741402</td>\n",
       "      <td>24.718314</td>\n",
       "      <td>1.454694</td>\n",
       "      <td>4.732824</td>\n",
       "      <td>13.086581</td>\n",
       "      <td>6.157660</td>\n",
       "      <td>79</td>\n",
       "      <td>Jul 28, 2019 11:26:40</td>\n",
       "      <td>110003</td>\n",
       "      <td>28.5911</td>\n",
       "      <td>77.2281</td>\n",
       "    </tr>\n",
       "  </tbody>\n",
       "</table>\n",
       "</div>"
      ],
      "text/plain": [
       "       NO2       PM10       PM25        CO       SO2      OZONE       NOX  \\\n",
       "0  1.59862  41.066102  19.554720  1.792490  2.824427  12.009282  5.011091   \n",
       "1  1.60466  33.982966  18.255604  1.510506  4.809160   5.026593  6.976350   \n",
       "2  1.71839  21.658356  10.567228  1.498907  5.687023   5.394776  7.445848   \n",
       "3  1.81066  12.561423  26.020093  1.445547  4.770992  13.127924  6.076698   \n",
       "4  1.84327  48.741402  24.718314  1.454694  4.732824  13.086581  6.157660   \n",
       "\n",
       "   AQI              updatedAt  postalCode      lat      lng  \n",
       "0   69   Jul 27, 2019 7:22:31      110003  28.5911  77.2281  \n",
       "1   61   Jul 29, 2019 4:33:36      110003  28.5911  77.2281  \n",
       "2   47   Jul 29, 2019 1:22:34      110003  28.5911  77.2281  \n",
       "3   82   Jul 28, 2019 7:22:16      110003  28.5911  77.2281  \n",
       "4   79  Jul 28, 2019 11:26:40      110003  28.5911  77.2281  "
      ]
     },
     "execution_count": 42,
     "metadata": {},
     "output_type": "execute_result"
    }
   ],
   "source": [
    "Delhi.head()"
   ]
  },
  {
   "cell_type": "code",
   "execution_count": 44,
   "metadata": {},
   "outputs": [],
   "source": [
    "Delhi.set_index(\"updatedAt\",inplace=True)\n",
    "Delhi.index= pd.to_datetime(Delhi.index)\n",
    "Delhi.sort_index(inplace=True)"
   ]
  },
  {
   "cell_type": "code",
   "execution_count": 45,
   "metadata": {},
   "outputs": [],
   "source": [
    "x_axis = ['NO2', 'PM10', 'PM25', 'CO', 'SO2', 'OZONE', 'NOX', 'AQI']\n",
    "y_axis_delhi = []\n",
    "y_axis_bng = []\n",
    "for i in x_axis:\n",
    "    y_axis_delhi.append(Delhi[i].mean())\n",
    "    y_axis_bng.append(Banglore[i].mean())"
   ]
  },
  {
   "cell_type": "code",
   "execution_count": 48,
   "metadata": {},
   "outputs": [
    {
     "data": {
      "text/plain": [
       "Text(0.5, 1.0, 'Delhi vs Bengaluru average')"
      ]
     },
     "execution_count": 48,
     "metadata": {},
     "output_type": "execute_result"
    },
    {
     "data": {
      "image/png": "[encoded data removed]",
      "text/plain": [
       "<Figure size 1200x800 with 1 Axes>"
      ]
     },
     "metadata": {},
     "output_type": "display_data"
    }
   ],
   "source": [
    "import palettable\n",
    "pal=palettable.cartocolors.qualitative.Prism_9.mpl_colors\n",
    "sns.set_palette(pal)\n",
    "sns.set_style('darkgrid')\n",
    "plt.rcParams['figure.dpi']= 200\n",
    "width = 0.35 \n",
    "x = np.arange(len(x_axis))\n",
    "fig, ax = plt.subplots()\n",
    "ax.set_ylabel('Value')\n",
    "ax.set_xticks(x)\n",
    "ax.set_xticklabels(x_axis)\n",
    "rects1 = ax.bar(x - width/2, y_axis_delhi, width, label='Delhi')\n",
    "rects2 = ax.bar(x + width/2, y_axis_bng, width, label='Bengaluru')\n",
    "\n",
    "ax.legend()\n",
    "plt.title(\"Delhi vs Bengaluru average\")"
   ]
  },
  {
   "cell_type": "code",
   "execution_count": null,
   "metadata": {},
   "outputs": [],
   "source": []
  }
 ],
 "metadata": {
  "kernelspec": {
   "display_name": "Python 3",
   "language": "python",
   "name": "python3"
  },
  "language_info": {
   "codemirror_mode": {
    "name": "ipython",
    "version": 3
   },
   "file_extension": ".py",
   "mimetype": "text/x-python",
   "name": "python",
   "nbconvert_exporter": "python",
   "pygments_lexer": "ipython3",
   "version": "3.7.3"
  }
 },
 "nbformat": 4,
 "nbformat_minor": 2
}
